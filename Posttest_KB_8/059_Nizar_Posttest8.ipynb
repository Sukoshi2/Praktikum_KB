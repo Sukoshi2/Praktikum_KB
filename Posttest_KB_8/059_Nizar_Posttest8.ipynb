{
 "cells": [
  {
   "cell_type": "markdown",
   "metadata": {},
   "source": [
    "#### Muhammad Nizar_2009106059\n",
    "#### POSTTEST 8 Kecerdasan Buatan / Artificial Intellegence\n",
    "## _DNN_\n",
    "### _Deep Neural Network_\n",
    "\n",
    "#### Link Dataset\n",
    "[Video Game Rating ESRB](https://www.kaggle.com/datasets/imohtn/video-games-rating-by-esrb \"Video Game Rating ESRB Dataset\")"
   ]
  },
  {
   "cell_type": "markdown",
   "metadata": {},
   "source": [
    "#### *Import tensorflow, pandas, sklearn untuk split data, dan matplotlib untuk visualisasi hasil akurasi*"
   ]
  },
  {
   "cell_type": "code",
   "execution_count": 92,
   "metadata": {},
   "outputs": [],
   "source": [
    "import pandas as pd\n",
    "import tensorflow as tf\n",
    "from sklearn.model_selection import train_test_split\n",
    "import matplotlib.pyplot as plt"
   ]
  },
  {
   "cell_type": "markdown",
   "metadata": {},
   "source": [
    "#### *Mengambil data dari dataset*"
   ]
  },
  {
   "cell_type": "code",
   "execution_count": 93,
   "metadata": {},
   "outputs": [],
   "source": [
    "df = pd.read_csv('Video_games_esrb_rating.csv')"
   ]
  },
  {
   "cell_type": "markdown",
   "metadata": {},
   "source": [
    "#### *Pre-Processing terlebih dahulu karena pada tensor.keras.utils tidak bisa menggunakan tipe data objek*"
   ]
  },
  {
   "cell_type": "code",
   "execution_count": 94,
   "metadata": {},
   "outputs": [],
   "source": [
    "df.replace(\"RP\", value=0, inplace=True)\n",
    "df.replace(\"EC\", value=1, inplace=True)\n",
    "df.replace(\"E\", value=2, inplace=True)\n",
    "df.replace(\"ET\", value=3, inplace=True)\n",
    "df.replace(\"T\", value=4, inplace=True)\n",
    "df.replace(\"M\", value=5, inplace=True)\n",
    "df.replace(\"A\", value=6, inplace=True)"
   ]
  },
  {
   "cell_type": "markdown",
   "metadata": {},
   "source": [
    "#### *Inisilasisasikan bagian mana yang jadi label(y) dan record(x)*"
   ]
  },
  {
   "cell_type": "code",
   "execution_count": 95,
   "metadata": {},
   "outputs": [],
   "source": [
    "X = df[['alcohol_reference', 'animated_blood', 'blood', 'blood_and_gore', 'cartoon_violence', 'crude_humor', 'drug_reference', 'fantasy_violence', 'intense_violence',\n",
    "    'language', 'lyrics', 'mature_humor', 'mild_blood', 'mild_cartoon_violence', 'mild_fantasy_violence', 'mild_language', 'mild_lyrics', 'mild_suggestive_themes',\n",
    "    'mild_violence', 'no_descriptors', 'nudity', 'partial_nudity' , 'sexual_content', 'sexual_themes', 'simulated_gambling', 'strong_janguage', 'strong_sexual_content',\n",
    "    'suggestive_themes', 'use_of_alcohol', 'use_of_drugs_and_alcohol', 'violence']]\n",
    "Y = df['esrb_rating']"
   ]
  },
  {
   "cell_type": "markdown",
   "metadata": {},
   "source": [
    "#### *membagi data latih dan data testing menjadi 70:30*"
   ]
  },
  {
   "cell_type": "code",
   "execution_count": 96,
   "metadata": {},
   "outputs": [],
   "source": [
    "x_train, x_test, y_train, y_test = train_test_split(X, Y, random_state=0, test_size=.3)"
   ]
  },
  {
   "cell_type": "markdown",
   "metadata": {},
   "source": [
    "#### *Inisilasisasikan bagian mana yang jadi label(y) dan record(x)*"
   ]
  },
  {
   "cell_type": "code",
   "execution_count": 97,
   "metadata": {},
   "outputs": [],
   "source": [
    "num_class = 7\n",
    "y_train = tf.keras.utils.to_categorical(y_train, num_class)\n",
    "y_test = tf.keras.utils.to_categorical(y_test, num_class)"
   ]
  },
  {
   "cell_type": "markdown",
   "metadata": {},
   "source": [
    "#### *Membuat model sequential dengan aktivasi relu, dan softmax biasa digunakan untuk klasifikasi yang classnya lebih dari 1*"
   ]
  },
  {
   "cell_type": "code",
   "execution_count": 98,
   "metadata": {},
   "outputs": [
    {
     "name": "stdout",
     "output_type": "stream",
     "text": [
      "Model: \"sequential_9\"\n",
      "_________________________________________________________________\n",
      " Layer (type)                Output Shape              Param #   \n",
      "=================================================================\n",
      " dense_18 (Dense)            (None, 16)                512       \n",
      "                                                                 \n",
      " dense_19 (Dense)            (None, 7)                 119       \n",
      "                                                                 \n",
      "=================================================================\n",
      "Total params: 631\n",
      "Trainable params: 631\n",
      "Non-trainable params: 0\n",
      "_________________________________________________________________\n"
     ]
    }
   ],
   "source": [
    "model = tf.keras.Sequential([\n",
    "    tf.keras.layers.Dense(16, activation='relu', input_dim=31),\n",
    "    tf.keras.layers.Dense(num_class, activation='softmax')\n",
    "])\n",
    "model.summary()"
   ]
  },
  {
   "cell_type": "markdown",
   "metadata": {},
   "source": [
    "#### *mengoptimasi sebuah model dengan optimizer adam, dan loss menggunakan categorical crossentropy*"
   ]
  },
  {
   "cell_type": "code",
   "execution_count": 99,
   "metadata": {},
   "outputs": [],
   "source": [
    "model.compile(\n",
    "    optimizer=tf.keras.optimizers.Adam(),\n",
    "    loss=tf.keras.losses.categorical_crossentropy,\n",
    "    metrics=['accuracy']\n",
    ")"
   ]
  },
  {
   "cell_type": "markdown",
   "metadata": {},
   "source": [
    "#### *melatih model telebih dahulu lalu mencoba data testing dengan epoch(iterasi) sebanyak 50, dan setiap langkah per-epoch(iterasi) sebanyak 50*"
   ]
  },
  {
   "cell_type": "code",
   "execution_count": 100,
   "metadata": {},
   "outputs": [
    {
     "name": "stdout",
     "output_type": "stream",
     "text": [
      "Epoch 1/50\n",
      "50/50 - 1s - loss: 1.8661 - accuracy: 0.2911 - val_loss: 1.7613 - val_accuracy: 0.3339 - 658ms/epoch - 13ms/step\n",
      "Epoch 2/50\n",
      "50/50 - 0s - loss: 1.6627 - accuracy: 0.3824 - val_loss: 1.5630 - val_accuracy: 0.4974 - 104ms/epoch - 2ms/step\n",
      "Epoch 3/50\n",
      "50/50 - 0s - loss: 1.4545 - accuracy: 0.5158 - val_loss: 1.3603 - val_accuracy: 0.5079 - 104ms/epoch - 2ms/step\n",
      "Epoch 4/50\n",
      "50/50 - 0s - loss: 1.2480 - accuracy: 0.6048 - val_loss: 1.1683 - val_accuracy: 0.6380 - 117ms/epoch - 2ms/step\n",
      "Epoch 5/50\n",
      "50/50 - 0s - loss: 1.0577 - accuracy: 0.6780 - val_loss: 0.9930 - val_accuracy: 0.6801 - 125ms/epoch - 3ms/step\n",
      "Epoch 6/50\n",
      "50/50 - 0s - loss: 0.8901 - accuracy: 0.7436 - val_loss: 0.8469 - val_accuracy: 0.7575 - 124ms/epoch - 2ms/step\n",
      "Epoch 7/50\n",
      "50/50 - 0s - loss: 0.7578 - accuracy: 0.8024 - val_loss: 0.7371 - val_accuracy: 0.7540 - 110ms/epoch - 2ms/step\n",
      "Epoch 8/50\n",
      "50/50 - 0s - loss: 0.6570 - accuracy: 0.8152 - val_loss: 0.6551 - val_accuracy: 0.7786 - 103ms/epoch - 2ms/step\n",
      "Epoch 9/50\n",
      "50/50 - 0s - loss: 0.5846 - accuracy: 0.8235 - val_loss: 0.5980 - val_accuracy: 0.7873 - 104ms/epoch - 2ms/step\n",
      "Epoch 10/50\n",
      "50/50 - 0s - loss: 0.5320 - accuracy: 0.8333 - val_loss: 0.5563 - val_accuracy: 0.8032 - 108ms/epoch - 2ms/step\n",
      "Epoch 11/50\n",
      "50/50 - 0s - loss: 0.4945 - accuracy: 0.8363 - val_loss: 0.5267 - val_accuracy: 0.8155 - 102ms/epoch - 2ms/step\n",
      "Epoch 12/50\n",
      "50/50 - 0s - loss: 0.4667 - accuracy: 0.8394 - val_loss: 0.5050 - val_accuracy: 0.8172 - 103ms/epoch - 2ms/step\n",
      "Epoch 13/50\n",
      "50/50 - 0s - loss: 0.4459 - accuracy: 0.8431 - val_loss: 0.4888 - val_accuracy: 0.8120 - 106ms/epoch - 2ms/step\n",
      "Epoch 14/50\n",
      "50/50 - 0s - loss: 0.4288 - accuracy: 0.8462 - val_loss: 0.4760 - val_accuracy: 0.8137 - 123ms/epoch - 2ms/step\n",
      "Epoch 15/50\n",
      "50/50 - 0s - loss: 0.4158 - accuracy: 0.8431 - val_loss: 0.4637 - val_accuracy: 0.8155 - 107ms/epoch - 2ms/step\n",
      "Epoch 16/50\n",
      "50/50 - 0s - loss: 0.4040 - accuracy: 0.8477 - val_loss: 0.4545 - val_accuracy: 0.8172 - 108ms/epoch - 2ms/step\n",
      "Epoch 17/50\n",
      "50/50 - 0s - loss: 0.3943 - accuracy: 0.8492 - val_loss: 0.4456 - val_accuracy: 0.8243 - 111ms/epoch - 2ms/step\n",
      "Epoch 18/50\n",
      "50/50 - 0s - loss: 0.3869 - accuracy: 0.8507 - val_loss: 0.4392 - val_accuracy: 0.8207 - 106ms/epoch - 2ms/step\n",
      "Epoch 19/50\n",
      "50/50 - 0s - loss: 0.3793 - accuracy: 0.8522 - val_loss: 0.4338 - val_accuracy: 0.8243 - 108ms/epoch - 2ms/step\n",
      "Epoch 20/50\n",
      "50/50 - 0s - loss: 0.3732 - accuracy: 0.8522 - val_loss: 0.4296 - val_accuracy: 0.8172 - 102ms/epoch - 2ms/step\n",
      "Epoch 21/50\n",
      "50/50 - 0s - loss: 0.3687 - accuracy: 0.8590 - val_loss: 0.4244 - val_accuracy: 0.8278 - 106ms/epoch - 2ms/step\n",
      "Epoch 22/50\n",
      "50/50 - 0s - loss: 0.3622 - accuracy: 0.8582 - val_loss: 0.4200 - val_accuracy: 0.8295 - 105ms/epoch - 2ms/step\n",
      "Epoch 23/50\n",
      "50/50 - 0s - loss: 0.3573 - accuracy: 0.8582 - val_loss: 0.4163 - val_accuracy: 0.8313 - 103ms/epoch - 2ms/step\n",
      "Epoch 24/50\n",
      "50/50 - 0s - loss: 0.3535 - accuracy: 0.8582 - val_loss: 0.4126 - val_accuracy: 0.8295 - 109ms/epoch - 2ms/step\n",
      "Epoch 25/50\n",
      "50/50 - 0s - loss: 0.3495 - accuracy: 0.8635 - val_loss: 0.4095 - val_accuracy: 0.8348 - 118ms/epoch - 2ms/step\n",
      "Epoch 26/50\n",
      "50/50 - 0s - loss: 0.3462 - accuracy: 0.8627 - val_loss: 0.4064 - val_accuracy: 0.8366 - 106ms/epoch - 2ms/step\n",
      "Epoch 27/50\n",
      "50/50 - 0s - loss: 0.3422 - accuracy: 0.8688 - val_loss: 0.4039 - val_accuracy: 0.8366 - 102ms/epoch - 2ms/step\n",
      "Epoch 28/50\n",
      "50/50 - 0s - loss: 0.3399 - accuracy: 0.8658 - val_loss: 0.3995 - val_accuracy: 0.8418 - 101ms/epoch - 2ms/step\n",
      "Epoch 29/50\n",
      "50/50 - 0s - loss: 0.3373 - accuracy: 0.8688 - val_loss: 0.3980 - val_accuracy: 0.8418 - 112ms/epoch - 2ms/step\n",
      "Epoch 30/50\n",
      "50/50 - 0s - loss: 0.3341 - accuracy: 0.8695 - val_loss: 0.3964 - val_accuracy: 0.8401 - 125ms/epoch - 3ms/step\n",
      "Epoch 31/50\n",
      "50/50 - 0s - loss: 0.3315 - accuracy: 0.8627 - val_loss: 0.3958 - val_accuracy: 0.8401 - 121ms/epoch - 2ms/step\n",
      "Epoch 32/50\n",
      "50/50 - 0s - loss: 0.3295 - accuracy: 0.8650 - val_loss: 0.3928 - val_accuracy: 0.8418 - 122ms/epoch - 2ms/step\n",
      "Epoch 33/50\n",
      "50/50 - 0s - loss: 0.3272 - accuracy: 0.8733 - val_loss: 0.3924 - val_accuracy: 0.8418 - 108ms/epoch - 2ms/step\n",
      "Epoch 34/50\n",
      "50/50 - 0s - loss: 0.3248 - accuracy: 0.8710 - val_loss: 0.3908 - val_accuracy: 0.8506 - 124ms/epoch - 2ms/step\n",
      "Epoch 35/50\n",
      "50/50 - 0s - loss: 0.3227 - accuracy: 0.8725 - val_loss: 0.3899 - val_accuracy: 0.8506 - 135ms/epoch - 3ms/step\n",
      "Epoch 36/50\n",
      "50/50 - 0s - loss: 0.3212 - accuracy: 0.8778 - val_loss: 0.3885 - val_accuracy: 0.8524 - 114ms/epoch - 2ms/step\n",
      "Epoch 37/50\n",
      "50/50 - 0s - loss: 0.3197 - accuracy: 0.8733 - val_loss: 0.3878 - val_accuracy: 0.8489 - 112ms/epoch - 2ms/step\n",
      "Epoch 38/50\n",
      "50/50 - 0s - loss: 0.3182 - accuracy: 0.8733 - val_loss: 0.3866 - val_accuracy: 0.8506 - 110ms/epoch - 2ms/step\n",
      "Epoch 39/50\n",
      "50/50 - 0s - loss: 0.3161 - accuracy: 0.8771 - val_loss: 0.3849 - val_accuracy: 0.8506 - 111ms/epoch - 2ms/step\n",
      "Epoch 40/50\n",
      "50/50 - 0s - loss: 0.3146 - accuracy: 0.8786 - val_loss: 0.3850 - val_accuracy: 0.8506 - 111ms/epoch - 2ms/step\n",
      "Epoch 41/50\n",
      "50/50 - 0s - loss: 0.3137 - accuracy: 0.8771 - val_loss: 0.3835 - val_accuracy: 0.8506 - 128ms/epoch - 3ms/step\n",
      "Epoch 42/50\n",
      "50/50 - 0s - loss: 0.3132 - accuracy: 0.8808 - val_loss: 0.3823 - val_accuracy: 0.8524 - 132ms/epoch - 3ms/step\n",
      "Epoch 43/50\n",
      "50/50 - 0s - loss: 0.3107 - accuracy: 0.8763 - val_loss: 0.3811 - val_accuracy: 0.8524 - 125ms/epoch - 3ms/step\n",
      "Epoch 44/50\n",
      "50/50 - 0s - loss: 0.3094 - accuracy: 0.8756 - val_loss: 0.3807 - val_accuracy: 0.8524 - 129ms/epoch - 3ms/step\n",
      "Epoch 45/50\n",
      "50/50 - 0s - loss: 0.3085 - accuracy: 0.8801 - val_loss: 0.3796 - val_accuracy: 0.8541 - 119ms/epoch - 2ms/step\n",
      "Epoch 46/50\n",
      "50/50 - 0s - loss: 0.3070 - accuracy: 0.8816 - val_loss: 0.3797 - val_accuracy: 0.8541 - 110ms/epoch - 2ms/step\n",
      "Epoch 47/50\n",
      "50/50 - 0s - loss: 0.3058 - accuracy: 0.8816 - val_loss: 0.3801 - val_accuracy: 0.8506 - 109ms/epoch - 2ms/step\n",
      "Epoch 48/50\n",
      "50/50 - 0s - loss: 0.3047 - accuracy: 0.8839 - val_loss: 0.3793 - val_accuracy: 0.8559 - 117ms/epoch - 2ms/step\n",
      "Epoch 49/50\n",
      "50/50 - 0s - loss: 0.3039 - accuracy: 0.8816 - val_loss: 0.3786 - val_accuracy: 0.8594 - 127ms/epoch - 3ms/step\n",
      "Epoch 50/50\n",
      "50/50 - 0s - loss: 0.3030 - accuracy: 0.8786 - val_loss: 0.3775 - val_accuracy: 0.8541 - 130ms/epoch - 3ms/step\n"
     ]
    }
   ],
   "source": [
    "history = model.fit(\n",
    "    x = x_train,  y = y_train,\n",
    "    validation_data = (x_test, y_test),\n",
    "    epochs = 50,\n",
    "    steps_per_epoch = 50,\n",
    "    verbose = 2 ## tampilan compile per epoch 1 default, 2 tidak melihatkan perjalanan 0 langsung \n",
    ")"
   ]
  },
  {
   "cell_type": "markdown",
   "metadata": {},
   "source": [
    "#### *Visulasisasikan Akurasi dari data Latih dan data Validasi atau hasil dari testing*\n",
    "- Data Latih dan data testing mengalami kenaikan akurasi yang tinggi sekitar epoch(iterasi) ke-0 sampai 10 (NOTE : Karena kita melatih awalan 0 makanya mengalami kenaikan akurasi)\n",
    "- Data Latih mempunyai akurasi yang lumayan stabil sekitar epoch(iterasi) ke-25 keatas\n",
    "- Data Testing/Validasi mempunyai akurasi yang lumayan stabil sekitar epoch(iterasi) ke-26 keatas"
   ]
  },
  {
   "cell_type": "code",
   "execution_count": 101,
   "metadata": {},
   "outputs": [
    {
     "data": {
      "image/png": "[encoded data removed]",
      "text/plain": [
       "<Figure size 500x500 with 1 Axes>"
      ]
     },
     "metadata": {},
     "output_type": "display_data"
    }
   ],
   "source": [
    "plt.figure(1, figsize=(5,5))\n",
    "plt.plot(range(len(history.history['accuracy'])),\n",
    "         history.history['accuracy'],\n",
    "         color='b',\n",
    "         label='Data Latih'\n",
    ")\n",
    "plt.plot(range(len(history.history['val_accuracy'])),\n",
    "         history.history['val_accuracy'],\n",
    "         color='r',\n",
    "         label='Data Validasi',\n",
    "         \n",
    ")\n",
    "plt.legend(bbox_to_anchor=(1, 1.02), loc='upper left')\n",
    "plt.show()"
   ]
  }
 ],
 "metadata": {
  "kernelspec": {
   "display_name": "Python 3.10.7 64-bit",
   "language": "python",
   "name": "python3"
  },
  "language_info": {
   "codemirror_mode": {
    "name": "ipython",
    "version": 3
   },
   "file_extension": ".py",
   "mimetype": "text/x-python",
   "name": "python",
   "nbconvert_exporter": "python",
   "pygments_lexer": "ipython3",
   "version": "3.10.7"
  },
  "orig_nbformat": 4,
  "vscode": {
   "interpreter": {
    "hash": "0247af2ad54b89941d5bbc349ce0bb468cceffd3de09303ac244a9d0972ce8b5"
   }
  }
 },
 "nbformat": 4,
 "nbformat_minor": 2
}
