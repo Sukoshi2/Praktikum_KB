{
 "cells": [
  {
   "cell_type": "markdown",
   "metadata": {},
   "source": [
    "#### Muhammad Nizar_2009106059\n",
    "#### POSTTEST 5 Kecerdasan Buatan / Artificial Intellegence\n",
    "### Supervised Learning\n",
    "\n",
    "[Video Game Rating ESRB](https://www.kaggle.com/datasets/imohtn/video-games-rating-by-esrb \"Video Game Rating ESRB Dataset\")"
   ]
  },
  {
   "cell_type": "markdown",
   "metadata": {},
   "source": [
    "#### *import berberapa libary dan algoritma/metode*"
   ]
  },
  {
   "cell_type": "code",
   "execution_count": 51,
   "metadata": {},
   "outputs": [],
   "source": [
    "import pandas as pd\n",
    "import numpy as np\n",
    "from sklearn.model_selection import train_test_split\n",
    "from sklearn.neighbors import KNeighborsClassifier # buat knn\n",
    "from sklearn.metrics import accuracy_score #buat knn\n",
    "from sklearn.naive_bayes import GaussianNB # buat naive bayes\n",
    "import matplotlib.pyplot as plt"
   ]
  },
  {
   "cell_type": "markdown",
   "metadata": {},
   "source": [
    "#### *Membuat dataframe terlebih dahulu*"
   ]
  },
  {
   "cell_type": "code",
   "execution_count": 52,
   "metadata": {},
   "outputs": [],
   "source": [
    "df = pd.read_csv('Video_games_esrb_rating.csv')"
   ]
  },
  {
   "cell_type": "markdown",
   "metadata": {},
   "source": [
    "#### *membuat variabel untuk membedakan yang mana x(atribut) dan y(label) untuk menyimpan semua kolom yang ada pada dataframe*"
   ]
  },
  {
   "cell_type": "code",
   "execution_count": 53,
   "metadata": {},
   "outputs": [],
   "source": [
    "X = df[['alcohol_reference', 'animated_blood', 'blood', 'blood_and_gore', 'cartoon_violence', 'crude_humor', 'drug_reference', 'fantasy_violence', 'intense_violence',\n",
    "    'language', 'lyrics', 'mature_humor', 'mild_blood', 'mild_cartoon_violence', 'mild_fantasy_violence', 'mild_language', 'mild_lyrics', 'mild_suggestive_themes',\n",
    "    'mild_violence', 'no_descriptors', 'nudity', 'partial_nudity' , 'sexual_content', 'sexual_themes', 'simulated_gambling', 'strong_janguage', 'strong_sexual_content',\n",
    "    'suggestive_themes', 'use_of_alcohol', 'use_of_drugs_and_alcohol', 'violence']]\n",
    "Y = df['esrb_rating']"
   ]
  },
  {
   "cell_type": "markdown",
   "metadata": {},
   "source": [
    "#### *membagi data training dan testing dengan perbandingan 80:20*"
   ]
  },
  {
   "cell_type": "code",
   "execution_count": 54,
   "metadata": {},
   "outputs": [],
   "source": [
    "X_train, X_test, y_train, y_test = train_test_split(X, Y, random_state=0, test_size=.2)"
   ]
  },
  {
   "cell_type": "markdown",
   "metadata": {},
   "source": [
    "#### *menerapkan algoritma K-Nearest Neighbor untuk klasifikasi*"
   ]
  },
  {
   "cell_type": "code",
   "execution_count": 55,
   "metadata": {},
   "outputs": [
    {
     "name": "stdout",
     "output_type": "stream",
     "text": [
      "Skor untuk K-Nearest Neighbor : 0.8311345646437994\n"
     ]
    }
   ],
   "source": [
    "KNearClassifier = KNeighborsClassifier(n_neighbors=3, metric='euclidean') # jumlah tetangga yangdiambil 5 dan menggunakan jarak enclidean \n",
    "KNearClassifier.fit(X_train, y_train) # latih data model agar mendapatkan data latih untuk di buat dengan data testing\n",
    "KNearestNe = KNearClassifier.score(X_test, y_test) # mendapatkan skor untuk hasil testing\n",
    "\n",
    "print(\"Skor untuk K-Nearest Neighbor :\", KNearestNe)"
   ]
  },
  {
   "cell_type": "markdown",
   "metadata": {},
   "source": [
    "#### *menrapkan algoritma Naive Bayes untuk klasifikasi*"
   ]
  },
  {
   "cell_type": "code",
   "execution_count": 56,
   "metadata": {},
   "outputs": [
    {
     "name": "stdout",
     "output_type": "stream",
     "text": [
      "Skor untuk Naive Bayes : 0.5778364116094987\n"
     ]
    }
   ],
   "source": [
    "GaussClassifier = GaussianNB() # menggunakan gaussian naive bayes\n",
    "GaussClassifier.fit(X_train, y_train) # latih data model agar mendapatkan data latih untuk di buat dengan data testting\n",
    "NaiveBayes = GaussClassifier.score(X_test, y_test) # mendapatkan skor untuk hasil testing\n",
    "\n",
    "print(\"Skor untuk Naive Bayes :\", NaiveBayes)"
   ]
  },
  {
   "cell_type": "markdown",
   "metadata": {},
   "source": [
    "#### *Perbandingan hasil skor dari algoritma K-Nearest Neighbor dan Naive Bayes*"
   ]
  },
  {
   "cell_type": "code",
   "execution_count": 57,
   "metadata": {},
   "outputs": [
    {
     "name": "stdout",
     "output_type": "stream",
     "text": [
      "Skor untuk K-Nearest Neighbor : 0.8311345646437994\n",
      "Skor untuk Naive Bayes        : 0.5778364116094987\n",
      "\n",
      "\n",
      "Skor Terbaik untuk Dataset ini jatuh pada Algoritma K-Nearest Neighbor\n",
      "Skor untuk K-Nearest Neighbor adalah  0.8311345646437994\n"
     ]
    }
   ],
   "source": [
    "print(f'Skor untuk K-Nearest Neighbor : {KNearestNe}',\n",
    "      f'Skor untuk Naive Bayes        : {NaiveBayes}',\n",
    "      sep ='\\n' \n",
    ")\n",
    "print(\"\\n\")\n",
    "\n",
    "if KNearestNe > NaiveBayes:\n",
    "      print(\"Skor Terbaik untuk Dataset ini jatuh pada Algoritma K-Nearest Neighbor\")\n",
    "      print(\"Skor untuk K-Nearest Neighbor adalah \", KNearestNe)\n",
    "else:\n",
    "      print(\"Skor Terbaik untuk Dataset ini jatuh pada Algoritma Naive Bayes\")\n",
    "      print(\"Skor untuk Naive Bayes adalah \", NaiveBayes)\n",
    "\n"
   ]
  }
 ],
 "metadata": {
  "kernelspec": {
   "display_name": "Python 3.10.7 64-bit",
   "language": "python",
   "name": "python3"
  },
  "language_info": {
   "codemirror_mode": {
    "name": "ipython",
    "version": 3
   },
   "file_extension": ".py",
   "mimetype": "text/x-python",
   "name": "python",
   "nbconvert_exporter": "python",
   "pygments_lexer": "ipython3",
   "version": "3.10.7"
  },
  "orig_nbformat": 4,
  "vscode": {
   "interpreter": {
    "hash": "0247af2ad54b89941d5bbc349ce0bb468cceffd3de09303ac244a9d0972ce8b5"
   }
  }
 },
 "nbformat": 4,
 "nbformat_minor": 2
}
